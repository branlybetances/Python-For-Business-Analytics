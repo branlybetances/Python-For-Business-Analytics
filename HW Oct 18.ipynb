{
 "cells": [
  {
   "cell_type": "code",
   "execution_count": null,
   "id": "406cc949-776b-423e-95ec-51a6591641e2",
   "metadata": {},
   "outputs": [],
   "source": [
    "acct_bal = float(input('What is your current account balance? '))\n",
    "deposit = float(input('How much will you contribute every year? '))\n",
    "cur_age = int(input('What is your current age?'))\n",
    "ret_age = int(input('What age do you anticipate retiring at?'))\n",
    "\n",
    "salary = float(input('What is your current salary?'))\n",
    "rf_rate = float(input('What is the annual increase in your salary?'))\n",
    "match_rate = float(input('What percentange will your company match?'))\n",
    "matching = 0\n",
    "annual_return = float(input('What is your annual investment return?'))\n",
    "\n",
    "for year in range(cur_age, ret_age):\n",
    "    salary *= 1 + rf_rate\n",
    "    matching = salary * match_rate\n",
    "    acct_bal += deposit + matching\n",
    "    acct_bal *= 1 + annual_return\n",
    "\n",
    "print(\"Your projected account balance at retirement age is:\", acct_bal)"
   ]
  },
  {
   "cell_type": "code",
   "execution_count": 4,
   "id": "836447a8-3b09-4fc2-b0bb-b83fc60fb7af",
   "metadata": {},
   "outputs": [
    {
     "name": "stdin",
     "output_type": "stream",
     "text": [
      "What is your current age? 21\n",
      "What is your current account balance?  0\n",
      "How much will you contribute every year?  20000\n",
      "What is your current salary? 1000000\n",
      "What is the annual increase in your salary? 0.025\n",
      "What percentange will your company match? 0.05\n",
      "What is your annual investment return? 0.14\n",
      "What is your desired balance to retire? 1000000\n"
     ]
    },
    {
     "name": "stdout",
     "output_type": "stream",
     "text": [
      "You can retire at age: 29\n",
      "Your retirement balance will be: 1131943.2135265078\n"
     ]
    }
   ],
   "source": [
    "cur_age = int(input('What is your current age?'))\n",
    "acct_bal = float(input('What is your current account balance? '))\n",
    "deposit = float(input('How much will you contribute every year? '))\n",
    "salary = float(input('What is your current salary?'))\n",
    "rf_rate = float(input('What is the annual increase in your salary?'))\n",
    "match_rate = float(input('What percentange will your company match?'))\n",
    "matching = 0\n",
    "annual_return = float(input('What is your annual investment return?'))\n",
    "desired_retirement_bal = float(input('What is your desired balance to retire?'))\n",
    "years = 0\n",
    "\n",
    "while acct_bal < desired_retirement_bal:\n",
    "    salary *= 1 + rf_rate\n",
    "    matching = salary * match_rate\n",
    "    acct_bal += deposit + matching\n",
    "    acct_bal *= 1 + annual_return\n",
    "    years += 1\n",
    "        \n",
    "final_age = cur_age + years\n",
    "    \n",
    "print(\"You can retire at age:\", final_age)\n",
    "print(\"Your retirement balance will be:\", acct_bal)"
   ]
  },
  {
   "cell_type": "code",
   "execution_count": null,
   "id": "a9aac035-27e5-4135-9bf5-d8e4d26ddb91",
   "metadata": {},
   "outputs": [],
   "source": []
  }
 ],
 "metadata": {
  "kernelspec": {
   "display_name": "Python 3 (ipykernel)",
   "language": "python",
   "name": "python3"
  },
  "language_info": {
   "codemirror_mode": {
    "name": "ipython",
    "version": 3
   },
   "file_extension": ".py",
   "mimetype": "text/x-python",
   "name": "python",
   "nbconvert_exporter": "python",
   "pygments_lexer": "ipython3",
   "version": "3.9.7"
  }
 },
 "nbformat": 4,
 "nbformat_minor": 5
}
