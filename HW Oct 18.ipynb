{
 "cells": [
  {
   "cell_type": "code",
   "execution_count": 3,
   "id": "406cc949-776b-423e-95ec-51a6591641e2",
   "metadata": {},
   "outputs": [
    {
     "name": "stdin",
     "output_type": "stream",
     "text": [
      "What is your current account balance?  0\n",
      "How much will you contribute every year?  20000\n",
      "What is your current age? 21\n",
      "What age do you anticipate retiring at? 65\n",
      "What is your current salary? 100000\n",
      "What is the annual increase in your salary? 0.025\n",
      "What percentange will your company match? 0.05\n",
      "What is your annual investment return? 0.14\n"
     ]
    },
    {
     "data": {
      "text/plain": [
       "1282630.8157780073"
      ]
     },
     "execution_count": 3,
     "metadata": {},
     "output_type": "execute_result"
    }
   ],
   "source": [
    "acct_bal = float(input('What is your current account balance? '))\n",
    "deposit = float(input('How much will you contribute every year? '))\n",
    "cur_age = int(input('What is your current age?'))\n",
    "ret_age = int(input('What age do you anticipate retiring at?'))\n",
    "\n",
    "salary = float(input('What is your current salary?'))\n",
    "rf_rate = float(input('What is the annual increase in your salary?'))\n",
    "match_rate = float(input('What percentange will your company match?'))\n",
    "matching = 0\n",
    "annual_return = float(input('What is your annual investment return?'))\n",
    "\n",
    "for year in range(cur_age, ret_age):\n",
    "    salary *= 1 + rf_rate\n",
    "    matching = salary * match_rate\n",
    "    acct_bal += deposit + matching\n",
    "    acct_bal += 1 + annual_return\n",
    "\n",
    "acct_bal"
   ]
  },
  {
   "cell_type": "code",
   "execution_count": null,
   "id": "836447a8-3b09-4fc2-b0bb-b83fc60fb7af",
   "metadata": {},
   "outputs": [],
   "source": [
    "salary = 60000\n",
    "acct_bal = 0\n",
    "\n",
    "while salary < 100000:\n",
    "    salary *= 1 + rf_rate\n",
    "    matching = salary * match_rate\n",
    "    acct_bal += deposit + matching\n",
    "    \n",
    "print(salary)"
   ]
  }
 ],
 "metadata": {
  "kernelspec": {
   "display_name": "Python 3 (ipykernel)",
   "language": "python",
   "name": "python3"
  },
  "language_info": {
   "codemirror_mode": {
    "name": "ipython",
    "version": 3
   },
   "file_extension": ".py",
   "mimetype": "text/x-python",
   "name": "python",
   "nbconvert_exporter": "python",
   "pygments_lexer": "ipython3",
   "version": "3.9.7"
  }
 },
 "nbformat": 4,
 "nbformat_minor": 5
}
